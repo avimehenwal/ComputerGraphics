{
 "cells": [
  {
   "cell_type": "markdown",
   "metadata": {},
   "source": [
    "### Destructors\n",
    "1. tidle sign before name\n",
    "2. takes no parameteres\n",
    "\n",
    "- A desctructor maynot fail\n",
    "- All resources acquired by a class must be released by the class destructor"
   ]
  },
  {
   "cell_type": "code",
   "execution_count": 1,
   "metadata": {
    "collapsed": true
   },
   "outputs": [],
   "source": [
    "#include <iostream>\n",
    "#include <string>\n",
    "using namespace std;\n",
    "\n",
    "class RipTire {\n",
    "    public:\n",
    "    RipTire() {\n",
    "        cout << \"Default Class constructor called\";\n",
    "    }\n",
    "    ~RipTire() noexcept {\n",
    "        cout << \"desctructor called\";\n",
    "    }  \n",
    "};\n"
   ]
  },
  {
   "cell_type": "code",
   "execution_count": 2,
   "metadata": {
    "collapsed": true
   },
   "outputs": [],
   "source": [
    "int main()\n",
    "{\n",
    "\n",
    "    //just a code-block\n",
    "    {\n",
    "        RipTire r;\n",
    "    }\n",
    "    //any LOCAL variable inside the codeblock with be destroyed at the end of codeblock\n",
    "    \n",
    "    string y;\n",
    "    getline(cin, y);\n",
    "    return 0;\n",
    "}\n"
   ]
  },
  {
   "cell_type": "markdown",
   "metadata": {},
   "source": [
    "## Inheritance\n",
    "- always use access specifier before class name while inheriting"
   ]
  },
  {
   "cell_type": "code",
   "execution_count": null,
   "metadata": {
    "collapsed": true
   },
   "outputs": [],
   "source": [
    "class MyBase {};\n",
    "class MyDerived : public MyBase {};"
   ]
  },
  {
   "cell_type": "code",
   "execution_count": null,
   "metadata": {
    "collapsed": true
   },
   "outputs": [],
   "source": []
  }
 ],
 "metadata": {
  "kernelspec": {
   "display_name": "C++17",
   "language": "C++17",
   "name": "xeus-cling-cpp17"
  },
  "language_info": {
   "codemirror_mode": "text/x-c++src",
   "file_extension": ".cpp",
   "mimetype": "text/x-c++src",
   "name": "c++",
   "version": "-std=c++17"
  }
 },
 "nbformat": 4,
 "nbformat_minor": 2
}
